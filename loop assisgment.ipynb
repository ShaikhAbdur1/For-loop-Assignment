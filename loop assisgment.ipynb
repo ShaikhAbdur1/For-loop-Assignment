{
 "cells": [
  {
   "cell_type": "code",
   "execution_count": 1,
   "id": "b725a056-8e13-40bf-842e-cede33a6abbf",
   "metadata": {},
   "outputs": [],
   "source": [
    "## 1. Write a Python program to print the numbers from 1 to 10 using a `for` loop."
   ]
  },
  {
   "cell_type": "code",
   "execution_count": 2,
   "id": "9e82c533-ff4d-469f-8078-a23c82f36fcb",
   "metadata": {},
   "outputs": [
    {
     "name": "stdout",
     "output_type": "stream",
     "text": [
      "1 2 3 4 5 6 7 8 9 10 "
     ]
    }
   ],
   "source": [
    "for i in range(1,11):\n",
    "    print(i, end = \" \") # This will give output for number from 1 to 10"
   ]
  },
  {
   "cell_type": "code",
   "execution_count": null,
   "id": "3c8410a1-1540-4125-967c-59888765d76c",
   "metadata": {},
   "outputs": [],
   "source": []
  },
  {
   "cell_type": "code",
   "execution_count": 3,
   "id": "4e4ef661-54e0-4449-a380-e8e2c82fd3bd",
   "metadata": {},
   "outputs": [],
   "source": [
    "##  2. Create a program that calculates the sum of all numbers in a list using a `for` loop."
   ]
  },
  {
   "cell_type": "code",
   "execution_count": 11,
   "id": "f322b491-e22e-4036-9013-badd2ef1e305",
   "metadata": {},
   "outputs": [],
   "source": [
    "def sum_of_list(n):\n",
    "    sumtotal = 0\n",
    "    for i in n:\n",
    "        sumtotal +=i\n",
    "    return sumtotal"
   ]
  },
  {
   "cell_type": "code",
   "execution_count": 14,
   "id": "9699f896-fff3-4339-b9fb-3a059b19e531",
   "metadata": {},
   "outputs": [
    {
     "data": {
      "text/plain": [
       "15"
      ]
     },
     "execution_count": 14,
     "metadata": {},
     "output_type": "execute_result"
    }
   ],
   "source": [
    "l = [1,2,3,4,5]\n",
    "\n",
    "sum_of_list(l)"
   ]
  },
  {
   "cell_type": "code",
   "execution_count": 13,
   "id": "5ce83742-661d-4825-a9df-bb9ea3a8093c",
   "metadata": {},
   "outputs": [],
   "source": []
  },
  {
   "cell_type": "code",
   "execution_count": 13,
   "id": "b09a391f-eecd-4999-885b-848a2ca35497",
   "metadata": {},
   "outputs": [],
   "source": [
    "## 3. Write a program to print the characters of a string in reverse order using a `for` loop."
   ]
  },
  {
   "cell_type": "code",
   "execution_count": 23,
   "id": "a2c8720f-ac2a-46f0-9aad-013f47928039",
   "metadata": {},
   "outputs": [
    {
     "name": "stdout",
     "output_type": "stream",
     "text": [
      "dlrow olleH"
     ]
    }
   ],
   "source": [
    "feature = \"Hello world\"\n",
    "\n",
    "for char in feature[::-1]:\n",
    "    print(char, end = \"\")"
   ]
  },
  {
   "cell_type": "code",
   "execution_count": null,
   "id": "3207769c-d903-4e55-a9fb-74e0787c2d36",
   "metadata": {},
   "outputs": [],
   "source": []
  },
  {
   "cell_type": "code",
   "execution_count": 24,
   "id": "c4907bb1-963e-4f79-9453-21dca605507b",
   "metadata": {},
   "outputs": [],
   "source": [
    "## 4. Develop a program that finds the factorial of a given number using a `for` loop."
   ]
  },
  {
   "cell_type": "code",
   "execution_count": 35,
   "id": "d785be54-a04d-466c-bcdd-d96a53ebb0df",
   "metadata": {},
   "outputs": [
    {
     "name": "stdin",
     "output_type": "stream",
     "text": [
      "enter your number to find factorial 4\n"
     ]
    },
    {
     "name": "stdout",
     "output_type": "stream",
     "text": [
      "factorial for the number 4 is 24\n"
     ]
    }
   ],
   "source": [
    "n = int(input(\"enter your number to find factorial\"))\n",
    "\n",
    "factorial = 1\n",
    "\n",
    "for number in range(1,n+1):\n",
    "    factorial = factorial *number \n",
    "print(f\"factorial for the number {n} is {factorial}\")"
   ]
  },
  {
   "cell_type": "code",
   "execution_count": 36,
   "id": "9cc4ba30-e5ff-4365-b4a2-db84176785b6",
   "metadata": {},
   "outputs": [],
   "source": []
  },
  {
   "cell_type": "code",
   "execution_count": 36,
   "id": "46f620c9-98b1-45e5-a73f-20e7d8cc848d",
   "metadata": {},
   "outputs": [],
   "source": [
    "## 5. Create a program to print the multiplication table of a given number using a `for` loop."
   ]
  },
  {
   "cell_type": "code",
   "execution_count": 43,
   "id": "941f93fe-8d9a-4a21-8251-035815dd732d",
   "metadata": {},
   "outputs": [
    {
     "name": "stdin",
     "output_type": "stream",
     "text": [
      "enter your number for multiplication 5\n"
     ]
    },
    {
     "name": "stdout",
     "output_type": "stream",
     "text": [
      " 5 * 1 = 5\n",
      " 5 * 2 = 10\n",
      " 5 * 3 = 15\n",
      " 5 * 4 = 20\n",
      " 5 * 5 = 25\n",
      " 5 * 6 = 30\n",
      " 5 * 7 = 35\n",
      " 5 * 8 = 40\n",
      " 5 * 9 = 45\n",
      " 5 * 10 = 50\n"
     ]
    }
   ],
   "source": [
    "n = int(input(\"enter your number for multiplication\"))\n",
    "\n",
    "multi = n\n",
    "\n",
    "for char in range(1,11):\n",
    "    result = n * char\n",
    "    print(f\" {n} * {char} = {result}\")"
   ]
  },
  {
   "cell_type": "code",
   "execution_count": null,
   "id": "21fed5f4-9a4c-43ca-9992-9cba584270b9",
   "metadata": {},
   "outputs": [],
   "source": [
    "    "
   ]
  },
  {
   "cell_type": "code",
   "execution_count": 44,
   "id": "3c58b672-632b-4fdc-bd4c-a3e33c7acf44",
   "metadata": {},
   "outputs": [],
   "source": [
    "## 6. Write a program that counts the number of even and odd numbers in a list using a `for` loop."
   ]
  },
  {
   "cell_type": "code",
   "execution_count": 52,
   "id": "892e4444-a28e-46f7-a5ae-8913dabefdb2",
   "metadata": {},
   "outputs": [
    {
     "name": "stdout",
     "output_type": "stream",
     "text": [
      "the total count of even number is 5\n",
      "the total count of odd number is 5\n"
     ]
    }
   ],
   "source": [
    "l = [1,2,3,4,5,6,7,8,9,0]\n",
    "\n",
    "count_even = 0\n",
    "count_odd = 0\n",
    "\n",
    "for num in l:\n",
    "    if num%2 == 0:\n",
    "        count_even += 1\n",
    "    else:\n",
    "        count_odd += 1\n",
    "print(\"the total count of even number is\", count_even)\n",
    "print(\"the total count of odd number is\", count_odd)"
   ]
  },
  {
   "cell_type": "code",
   "execution_count": null,
   "id": "4abd14d3-f0ba-4072-8eb6-e6281a303fcf",
   "metadata": {},
   "outputs": [],
   "source": []
  },
  {
   "cell_type": "code",
   "execution_count": 53,
   "id": "09b8f6c4-a585-4736-bc70-7bac70da0934",
   "metadata": {},
   "outputs": [],
   "source": [
    "## 7. Develop a program that prints the squares of numbers from 1 to 5 using a `for` loop"
   ]
  },
  {
   "cell_type": "code",
   "execution_count": 56,
   "id": "65462941-1ba3-4619-80cb-42d4714e3394",
   "metadata": {},
   "outputs": [
    {
     "name": "stdin",
     "output_type": "stream",
     "text": [
      "enter a number for its square 5\n"
     ]
    },
    {
     "name": "stdout",
     "output_type": "stream",
     "text": [
      "the square of this number 1 is 1\n",
      "the square of this number 2 is 4\n",
      "the square of this number 3 is 9\n",
      "the square of this number 4 is 16\n",
      "the square of this number 5 is 25\n"
     ]
    }
   ],
   "source": [
    "n = int(input(\"enter a number for its square\"))\n",
    "\n",
    "for i in range(1,n+1):\n",
    "    result = i**2\n",
    "    print(f\"the square of this number {i} is {result}\")"
   ]
  },
  {
   "cell_type": "code",
   "execution_count": null,
   "id": "f9aef80a-d8e1-403a-bafd-8b3d366153de",
   "metadata": {},
   "outputs": [],
   "source": []
  },
  {
   "cell_type": "code",
   "execution_count": 57,
   "id": "47431654-6544-4710-8a14-aaa311345982",
   "metadata": {},
   "outputs": [],
   "source": [
    "## 8.  Create a program to find the length of a string without using the `len()` function."
   ]
  },
  {
   "cell_type": "code",
   "execution_count": 62,
   "id": "a82b4e65-31a0-4605-80b9-25ee031e14e2",
   "metadata": {},
   "outputs": [
    {
     "name": "stdin",
     "output_type": "stream",
     "text": [
      "enter a string to find its length Abdur\n"
     ]
    },
    {
     "name": "stdout",
     "output_type": "stream",
     "text": [
      "the length of string is 5\n"
     ]
    }
   ],
   "source": [
    "l = input(\"enter a string to find its length\")\n",
    "\n",
    "count = 0\n",
    "\n",
    "for char in l:\n",
    "    if l == \" \":\n",
    "        print(l)\n",
    "    else:\n",
    "        len(char) == 1\n",
    "        count += 1\n",
    "print(\"the length of string is\", count)"
   ]
  },
  {
   "cell_type": "code",
   "execution_count": 1,
   "id": "3d15758e-509f-4c9c-a4ab-0adb5ee79d7d",
   "metadata": {},
   "outputs": [],
   "source": [
    "    "
   ]
  },
  {
   "cell_type": "code",
   "execution_count": 1,
   "id": "bd1ec702-3efe-47fa-98a5-1606f43222ab",
   "metadata": {},
   "outputs": [],
   "source": [
    "## 9. Write a program that calculates the average of a list of numbers using a `for` loop."
   ]
  },
  {
   "cell_type": "code",
   "execution_count": 21,
   "id": "c024fbdb-2e48-4667-b05a-0b7c621df9b1",
   "metadata": {},
   "outputs": [
    {
     "name": "stdout",
     "output_type": "stream",
     "text": [
      "4\n"
     ]
    }
   ],
   "source": [
    "l = [1,2,3,4,5,6,5,4,5,7,8]\n",
    "\n",
    "n = 0\n",
    "\n",
    "\n",
    "\n",
    "for num in l:\n",
    "    n += num\n",
    "\n",
    "avg = n//len(l) #doing floor division to find a round up figure \n",
    "\n",
    "print(avg)"
   ]
  },
  {
   "cell_type": "code",
   "execution_count": 19,
   "id": "03edbe29-e3b4-4117-99b3-c50726f7b9c9",
   "metadata": {},
   "outputs": [],
   "source": []
  },
  {
   "cell_type": "code",
   "execution_count": 19,
   "id": "a65523c5-ba50-493d-9c52-4bf0df734ada",
   "metadata": {},
   "outputs": [],
   "source": [
    "## 10. Develop a program that prints the first `n` Fibonacci numbers using a `for` loop."
   ]
  },
  {
   "cell_type": "code",
   "execution_count": 27,
   "id": "55cb284f-be62-4cae-9f1e-68344594e0d2",
   "metadata": {},
   "outputs": [
    {
     "name": "stdin",
     "output_type": "stream",
     "text": [
      "enter a number for to find fibonacci number  6\n"
     ]
    },
    {
     "name": "stdout",
     "output_type": "stream",
     "text": [
      "0\n",
      "1\n",
      "1\n",
      "2\n",
      "3\n",
      "5\n"
     ]
    }
   ],
   "source": [
    "n = int(input(\"enter a number for to find fibonacci number \"))\n",
    "\n",
    "a,b = 0,1\n",
    "\n",
    "for _ in range(n):\n",
    "    print(a)\n",
    "    a,b = b,a+b"
   ]
  },
  {
   "cell_type": "code",
   "execution_count": null,
   "id": "7417644c-4970-4780-98ba-36cd7a613357",
   "metadata": {},
   "outputs": [],
   "source": []
  },
  {
   "cell_type": "code",
   "execution_count": 28,
   "id": "ef110091-3021-4a8e-826f-e24149767f56",
   "metadata": {},
   "outputs": [],
   "source": [
    "####### Intermediate Level:"
   ]
  },
  {
   "cell_type": "code",
   "execution_count": null,
   "id": "ce08335e-b516-4df3-9023-6ffa6326f83c",
   "metadata": {},
   "outputs": [],
   "source": []
  },
  {
   "cell_type": "code",
   "execution_count": 29,
   "id": "21786ebe-0398-4399-81b6-9eec79b49165",
   "metadata": {},
   "outputs": [],
   "source": [
    "## 11. Write a program to check if a given list contains any duplicates using a `for` loop."
   ]
  },
  {
   "cell_type": "code",
   "execution_count": 41,
   "id": "ea62dbb9-e978-4769-94c9-5021508cef7e",
   "metadata": {},
   "outputs": [
    {
     "name": "stdout",
     "output_type": "stream",
     "text": [
      "The list contains duplicates.\n"
     ]
    }
   ],
   "source": [
    "l = ['abdur', 'abdur', 1,3,4,4,5,6]\n",
    "\n",
    "def has_duplicates(input_list):\n",
    "    seen = set()\n",
    "    for item in input_list:\n",
    "        if item in seen:\n",
    "            return True\n",
    "        seen.add(item)\n",
    "    return False\n",
    "\n",
    "\n",
    "\n",
    "if has_duplicates(l):\n",
    "    print(\"The list contains duplicates.\")\n",
    "else:\n",
    "    print(\"The list does not contain duplicates.\")"
   ]
  },
  {
   "cell_type": "code",
   "execution_count": null,
   "id": "49362cd7-e411-45ef-bb6f-ea41a62f61d6",
   "metadata": {},
   "outputs": [],
   "source": []
  },
  {
   "cell_type": "code",
   "execution_count": 3,
   "id": "22922caf-2538-4931-872b-a5882156da37",
   "metadata": {},
   "outputs": [],
   "source": [
    "## 12. Create a program that prints the prime numbers in a given range using a `for` loop."
   ]
  },
  {
   "cell_type": "code",
   "execution_count": 18,
   "id": "3e151359-3fab-4b83-b3ec-d5a57c7ff925",
   "metadata": {},
   "outputs": [
    {
     "data": {
      "text/plain": [
       "'Number is a prime number'"
      ]
     },
     "execution_count": 18,
     "metadata": {},
     "output_type": "execute_result"
    }
   ],
   "source": [
    "def Prime_num(num):\n",
    "    if num<2:\n",
    "        return False\n",
    "    for i in range(2,int(num**.5)+1):\n",
    "        if num%i == 0:\n",
    "            return \"Number is not a prime number\"\n",
    "    return \"Number is a prime number\"\n",
    "\n",
    "\n",
    "Prime_num(23) # checkking is 23 is a prime number"
   ]
  },
  {
   "cell_type": "code",
   "execution_count": null,
   "id": "b4793e12-2578-4f84-be5d-6d892ccfb009",
   "metadata": {},
   "outputs": [],
   "source": []
  },
  {
   "cell_type": "code",
   "execution_count": 1,
   "id": "230460e7-da28-4a67-a201-853fb275f745",
   "metadata": {},
   "outputs": [],
   "source": [
    "## 13.  Develop a program that counts the number of vowels in a string using a `for` loop."
   ]
  },
  {
   "cell_type": "code",
   "execution_count": 23,
   "id": "fe7e9320-716f-479e-9026-501437427210",
   "metadata": {},
   "outputs": [
    {
     "name": "stdin",
     "output_type": "stream",
     "text": [
      "Enter your word:  Hello Pavan\n"
     ]
    },
    {
     "name": "stdout",
     "output_type": "stream",
     "text": [
      "The total number of vowels: 4\n"
     ]
    }
   ],
   "source": [
    "n = input(\"Enter your word: \")\n",
    "\n",
    "def vowel_counts(n):\n",
    "    vowel_count = 0\n",
    "    for char in n:\n",
    "        if char in \"aeiouAEIOU\":\n",
    "            vowel_count += 1\n",
    "    return vowel_count\n",
    "\n",
    "vowels = vowel_counts(n)\n",
    "\n",
    "print(\"The total number of vowels:\", vowels)"
   ]
  },
  {
   "cell_type": "code",
   "execution_count": null,
   "id": "92ba893f-3175-4439-bf40-21c231a99898",
   "metadata": {},
   "outputs": [],
   "source": []
  },
  {
   "cell_type": "code",
   "execution_count": 24,
   "id": "4894a86c-2eb5-4ccf-add5-deacaca0df04",
   "metadata": {},
   "outputs": [],
   "source": [
    "## 14. Write a program to find the maximum element in a 2D list using a nested `for` loop."
   ]
  },
  {
   "cell_type": "code",
   "execution_count": 31,
   "id": "46efebbe-c606-4418-a891-6ca60442a941",
   "metadata": {},
   "outputs": [
    {
     "name": "stdout",
     "output_type": "stream",
     "text": [
      "the max number in the l is  80\n"
     ]
    }
   ],
   "source": [
    "l = [[1,2,3],[4,5,6],[78,79,80]]\n",
    "\n",
    "l1 = []       # we are creating an another list to append all the element of l list\n",
    "\n",
    "for num in l:\n",
    "    for micronum in num:\n",
    "        l1.append(micronum)\n",
    "\n",
    "print(\"the max number in the l is \",max(l1))   # in this code, we have find the maximum element in the list"
   ]
  },
  {
   "cell_type": "code",
   "execution_count": null,
   "id": "fb9fa361-be47-495f-970e-c4f34166845f",
   "metadata": {},
   "outputs": [],
   "source": []
  },
  {
   "cell_type": "code",
   "execution_count": 32,
   "id": "a098c81b-e579-43a8-bde8-592176b580ab",
   "metadata": {},
   "outputs": [],
   "source": [
    "## 15. Create a program that removes all occurrences of a specific element from a list using a `for` loop"
   ]
  },
  {
   "cell_type": "code",
   "execution_count": 37,
   "id": "db569896-3b06-4fab-b8bc-a6d76e96c0d4",
   "metadata": {},
   "outputs": [
    {
     "name": "stdout",
     "output_type": "stream",
     "text": [
      "Original List: [1, 2, 3, 4, 2, 5, 6, 2]\n",
      "List after removing element 2 : [1, 3, 4, 5, 6]\n"
     ]
    }
   ],
   "source": [
    "def remove_element(input_list, element):\n",
    "    output_list = []\n",
    "    \n",
    "    for item in input_list:\n",
    "        if item != element:\n",
    "            output_list.append(item)\n",
    "    \n",
    "    return output_list\n",
    "\n",
    "my_list = [1, 2, 3, 4, 2, 5, 6, 2]\n",
    "element_to_remove = 2\n",
    "\n",
    "result_list = remove_element(my_list, element_to_remove)\n",
    "\n",
    "print(\"Original List:\", my_list)\n",
    "print(\"List after removing element\", element_to_remove, \":\", result_list)"
   ]
  },
  {
   "cell_type": "code",
   "execution_count": null,
   "id": "ef05cb7f-ad2f-43c5-a230-60cdac37d26e",
   "metadata": {},
   "outputs": [],
   "source": []
  },
  {
   "cell_type": "code",
   "execution_count": 1,
   "id": "d5434834-13fa-4507-8ea5-871d2a012d1e",
   "metadata": {},
   "outputs": [],
   "source": [
    "## 16. Develop a program that generates a multiplication table for numbers from 1 to 5 using a nested `for` loop."
   ]
  },
  {
   "cell_type": "code",
   "execution_count": 19,
   "id": "b57d13fd-4993-4d1d-8d20-928011a999fd",
   "metadata": {},
   "outputs": [
    {
     "name": "stdout",
     "output_type": "stream",
     "text": [
      "1 * 1 = 1\n",
      "1 * 2 = 2\n",
      "1 * 3 = 3\n",
      "1 * 4 = 4\n",
      "1 * 5 = 5\n",
      "1 * 6 = 6\n",
      "1 * 7 = 7\n",
      "1 * 8 = 8\n",
      "1 * 9 = 9\n",
      "1 * 10 = 10\n",
      "\n",
      "2 * 1 = 2\n",
      "2 * 2 = 4\n",
      "2 * 3 = 6\n",
      "2 * 4 = 8\n",
      "2 * 5 = 10\n",
      "2 * 6 = 12\n",
      "2 * 7 = 14\n",
      "2 * 8 = 16\n",
      "2 * 9 = 18\n",
      "2 * 10 = 20\n",
      "\n",
      "3 * 1 = 3\n",
      "3 * 2 = 6\n",
      "3 * 3 = 9\n",
      "3 * 4 = 12\n",
      "3 * 5 = 15\n",
      "3 * 6 = 18\n",
      "3 * 7 = 21\n",
      "3 * 8 = 24\n",
      "3 * 9 = 27\n",
      "3 * 10 = 30\n",
      "\n",
      "4 * 1 = 4\n",
      "4 * 2 = 8\n",
      "4 * 3 = 12\n",
      "4 * 4 = 16\n",
      "4 * 5 = 20\n",
      "4 * 6 = 24\n",
      "4 * 7 = 28\n",
      "4 * 8 = 32\n",
      "4 * 9 = 36\n",
      "4 * 10 = 40\n",
      "\n",
      "5 * 1 = 5\n",
      "5 * 2 = 10\n",
      "5 * 3 = 15\n",
      "5 * 4 = 20\n",
      "5 * 5 = 25\n",
      "5 * 6 = 30\n",
      "5 * 7 = 35\n",
      "5 * 8 = 40\n",
      "5 * 9 = 45\n",
      "5 * 10 = 50\n",
      "\n"
     ]
    }
   ],
   "source": [
    "for num in range(1,6):              #This one will print number for multiplication\n",
    "    for number in range(1,11):      #this be the number to be multiple with \n",
    "        result = num* number\n",
    "        print(f\"{num} * {number} = {result}\")\n",
    "    print()"
   ]
  },
  {
   "cell_type": "code",
   "execution_count": null,
   "id": "430a4865-fe67-4a3e-a0c4-27d7caee8b11",
   "metadata": {},
   "outputs": [],
   "source": []
  },
  {
   "cell_type": "code",
   "execution_count": 20,
   "id": "37faffd4-82a5-4aa2-9078-8ff202df0595",
   "metadata": {},
   "outputs": [],
   "source": [
    "## 17.  Write a program that converts a list of Fahrenheit temperatures to Celsius using a `for` loop."
   ]
  },
  {
   "cell_type": "code",
   "execution_count": 31,
   "id": "84e6401a-bbae-41e8-a02f-3c3c8193a874",
   "metadata": {},
   "outputs": [
    {
     "name": "stdout",
     "output_type": "stream",
     "text": [
      "celcius_temp [-5, 7, 13, 25]\n"
     ]
    }
   ],
   "source": [
    "fahrenhit_tem = [23,45,56,78]\n",
    "\n",
    "celcius_tempt = []\n",
    "\n",
    "for temp in fahrenhit_tem:\n",
    "    celcis_temp = int((temp-32) * (5/9))\n",
    "    celcius_tempt.append(celcis_temp)\n",
    "print(\"celcius_temp\", celcius_tempt)"
   ]
  },
  {
   "cell_type": "code",
   "execution_count": null,
   "id": "c17ddc5a-0130-42a5-835c-897b59cb631e",
   "metadata": {},
   "outputs": [],
   "source": []
  },
  {
   "cell_type": "code",
   "execution_count": 32,
   "id": "5c0a833c-3817-4d60-8051-2cf1763b6435",
   "metadata": {},
   "outputs": [],
   "source": [
    "## 18. Create a program to print the common elements from two lists using a `for` loop."
   ]
  },
  {
   "cell_type": "code",
   "execution_count": 33,
   "id": "a8a97696-236d-4483-9610-9432921aa24d",
   "metadata": {},
   "outputs": [
    {
     "name": "stdout",
     "output_type": "stream",
     "text": [
      "[1, 22]\n"
     ]
    }
   ],
   "source": [
    "l = [1,22,3,4,5,6]\n",
    "l1 = [1,22,7,8,9,90]\n",
    "\n",
    "common_element = []\n",
    "\n",
    "for num in l:\n",
    "    if num in l1:\n",
    "        common_element.append(num)\n",
    "print(common_element)"
   ]
  },
  {
   "cell_type": "code",
   "execution_count": 34,
   "id": "7e262620-0c70-40fb-8b24-23559d91131d",
   "metadata": {},
   "outputs": [],
   "source": []
  },
  {
   "cell_type": "code",
   "execution_count": 35,
   "id": "b1bbd18e-19f5-460d-9f22-900c476cd6e7",
   "metadata": {},
   "outputs": [],
   "source": [
    "## 19. Develop a program that prints the pattern of right-angled triangles using a `for` loop. Use ‘*’ to draw the pattern"
   ]
  },
  {
   "cell_type": "code",
   "execution_count": 38,
   "id": "b565c228-6cae-4230-8ef7-cba46ee82e79",
   "metadata": {},
   "outputs": [
    {
     "name": "stdout",
     "output_type": "stream",
     "text": [
      "* \n",
      "* * \n",
      "* * * \n",
      "* * * * \n",
      "* * * * * \n"
     ]
    }
   ],
   "source": [
    "for num in range(1,6):\n",
    "    for j in range(1,num+1):\n",
    "        print(\"*\", end = \" \")\n",
    "    print()"
   ]
  },
  {
   "cell_type": "code",
   "execution_count": null,
   "id": "b59a7d6d-1621-4cca-a32b-91d43102f6ca",
   "metadata": {},
   "outputs": [],
   "source": []
  },
  {
   "cell_type": "code",
   "execution_count": 39,
   "id": "53f0892c-6e37-447a-8f7a-9d29e4af47bd",
   "metadata": {},
   "outputs": [],
   "source": [
    "## 20.  Write a program to find the greatest common divisor (GCD) of two numbers using a `for` loop."
   ]
  },
  {
   "cell_type": "code",
   "execution_count": 22,
   "id": "094de020-7fab-4f1e-b6a0-4f387fd7e28e",
   "metadata": {},
   "outputs": [
    {
     "name": "stdin",
     "output_type": "stream",
     "text": [
      "enter your 1st number 45\n",
      "enter your 2nd number 55\n"
     ]
    },
    {
     "name": "stdout",
     "output_type": "stream",
     "text": [
      "the greates common divisior for this numbers is 5\n"
     ]
    }
   ],
   "source": [
    "def GCD(a,b):\n",
    "    gcd = 1\n",
    "    for i in range(1,min(a,b)+1):\n",
    "        if (a % i  == 0) and (b % i == 0):\n",
    "            gcd = i\n",
    "    return gcd\n",
    "\n",
    "num1 = int(input(\"enter your 1st number\"))\n",
    "num2 = int(input(\"enter your 2nd number\"))\n",
    "\n",
    "gcd1 = GCD(num1,num2)\n",
    "\n",
    "print(f\"the greates common divisior for this numbers is {gcd1}\")"
   ]
  },
  {
   "cell_type": "code",
   "execution_count": null,
   "id": "4e29711e-04a7-479a-96d1-33729ee9be4e",
   "metadata": {},
   "outputs": [],
   "source": []
  },
  {
   "cell_type": "code",
   "execution_count": 23,
   "id": "49c8aa4f-ce3e-49e6-bec2-e7c8e699c10a",
   "metadata": {},
   "outputs": [],
   "source": [
    "##  Advanced Level:"
   ]
  },
  {
   "cell_type": "code",
   "execution_count": null,
   "id": "99e2ff5b-303d-40ac-9b34-a61cc07a0e8c",
   "metadata": {},
   "outputs": [],
   "source": []
  },
  {
   "cell_type": "code",
   "execution_count": 24,
   "id": "212564d1-aa34-474a-b145-0d0e409fbc46",
   "metadata": {},
   "outputs": [],
   "source": [
    "## 21.  Create a program that calculates the sum of the digits of numbers in a list using a list comprehension."
   ]
  },
  {
   "cell_type": "code",
   "execution_count": 30,
   "id": "4a296905-74c3-402b-ae6b-08a0ba59467f",
   "metadata": {},
   "outputs": [
    {
     "name": "stdout",
     "output_type": "stream",
     "text": [
      "[18]\n"
     ]
    }
   ],
   "source": [
    "num_list = [12,456]\n",
    "\n",
    "sum_of_digit = [sum(int(digit) for number in num_list for digit in str(number))]\n",
    "\n",
    "print(sum_of_digit)"
   ]
  },
  {
   "cell_type": "code",
   "execution_count": null,
   "id": "92b71868-4342-4e7e-8027-2ccb58bd7c38",
   "metadata": {},
   "outputs": [],
   "source": []
  },
  {
   "cell_type": "code",
   "execution_count": 31,
   "id": "7d5fabdd-c42f-4ede-9071-f99a053cfd21",
   "metadata": {},
   "outputs": [],
   "source": [
    " ## 22. Write a program to find the prime factors of a given number using a `for` loop and list comprehension."
   ]
  },
  {
   "cell_type": "code",
   "execution_count": 20,
   "id": "cf8338a3-4128-4579-94d8-085f064adb91",
   "metadata": {},
   "outputs": [
    {
     "name": "stdin",
     "output_type": "stream",
     "text": [
      "Enter a number to find its prime factors:  14\n"
     ]
    },
    {
     "name": "stdout",
     "output_type": "stream",
     "text": [
      "Prime factors of the number: [2, 7]\n"
     ]
    }
   ],
   "source": [
    "# Function to check if a number is prime\n",
    "def is_prime(num):\n",
    "    if num <= 1:\n",
    "        return False\n",
    "    for i in range(2, int(num**.5) + 1):\n",
    "        if num % i == 0:\n",
    "            return False\n",
    "    return True\n",
    "\n",
    "# Get the input number from the user\n",
    "num = int(input(\"Enter a number to find its prime factors: \"))\n",
    "\n",
    "# Initialize an empty list to store prime factors\n",
    "prime_factors = []\n",
    "\n",
    "# Use a for loop and list comprehension to find prime factors\n",
    "for i in range(2, num + 1):\n",
    "    while num % i == 0 and is_prime(i):\n",
    "        prime_factors.append(i)\n",
    "        num //= i\n",
    "\n",
    "# Print the list of prime factors\n",
    "print(\"Prime factors of the number:\", prime_factors)"
   ]
  },
  {
   "cell_type": "code",
   "execution_count": null,
   "id": "9a83fb49-9ce0-4137-a636-8fdcd03ee06c",
   "metadata": {},
   "outputs": [],
   "source": []
  },
  {
   "cell_type": "code",
   "execution_count": 16,
   "id": "c95973e6-7cc8-4ada-aa3a-32036362d8ec",
   "metadata": {},
   "outputs": [],
   "source": [
    "## 23. Develop a program that extracts unique elements from a list and stores them in a new list using a list comprehension."
   ]
  },
  {
   "cell_type": "code",
   "execution_count": 34,
   "id": "8b9a1d25-bf74-4082-97c9-ab5102d99d24",
   "metadata": {},
   "outputs": [
    {
     "name": "stdout",
     "output_type": "stream",
     "text": [
      "['abdur', 1, 2, 'raheman']\n"
     ]
    }
   ],
   "source": [
    "my_list = [\"abdur\",\"abdur\",1,2,\"abdur\",\"raheman\"]\n",
    "\n",
    "unique_list = []\n",
    "[unique_list.append(element) for element in my_list if element not in unique_list]\n",
    "\n",
    "print(unique_list)"
   ]
  },
  {
   "cell_type": "code",
   "execution_count": null,
   "id": "67606ead-1fc6-4fa3-a460-89b22c8abef6",
   "metadata": {},
   "outputs": [],
   "source": [
    "## or we can use the below code also "
   ]
  },
  {
   "cell_type": "code",
   "execution_count": 33,
   "id": "800ba766-0a0a-4581-93e5-c0f974b2de9e",
   "metadata": {},
   "outputs": [
    {
     "name": "stdout",
     "output_type": "stream",
     "text": [
      "previos list ['abdur', 'abdur', 1, 2, 'abdur', 'raheman']\n",
      "unique list  [1, 2, 'raheman']\n"
     ]
    }
   ],
   "source": [
    "my_list = [\"abdur\",\"abdur\",1,2,\"abdur\",\"raheman\"]\n",
    "\n",
    "unique_list = [element for element in my_list if my_list.count(element) == 1]\n",
    "\n",
    "print(\"previos list\",my_list)\n",
    "print(\"unique list \", unique_list)"
   ]
  },
  {
   "cell_type": "code",
   "execution_count": null,
   "id": "00a361c4-a54f-4154-8dd2-bebc3d063e48",
   "metadata": {},
   "outputs": [],
   "source": []
  },
  {
   "cell_type": "code",
   "execution_count": null,
   "id": "3b802a62-7100-4088-b160-e98d1b9d36fa",
   "metadata": {},
   "outputs": [],
   "source": [
    "## 24. Create a program that generates a list of all palindromic numbers up to a specified limit using a list comprehension"
   ]
  },
  {
   "cell_type": "code",
   "execution_count": 41,
   "id": "e72cadc8-fe99-484f-9733-6907873de566",
   "metadata": {},
   "outputs": [
    {
     "name": "stdout",
     "output_type": "stream",
     "text": [
      "Here is the Plaindromic number under 1000 are [11, 22, 33, 44, 55, 66, 77, 88, 99, 101, 111, 121, 131, 141, 151, 161, 171, 181, 191, 202, 212, 222, 232, 242, 252, 262, 272, 282, 292, 303, 313, 323, 333, 343, 353, 363, 373, 383, 393, 404, 414, 424, 434, 444, 454, 464, 474, 484, 494, 505, 515, 525, 535, 545, 555, 565, 575, 585, 595, 606, 616, 626, 636, 646, 656, 666, 676, 686, 696, 707, 717, 727, 737, 747, 757, 767, 777, 787, 797, 808, 818, 828, 838, 848, 858, 868, 878, 888, 898, 909, 919, 929, 939, 949, 959, 969, 979, 989, 999]\n"
     ]
    }
   ],
   "source": [
    "def is_palindromic(n):\n",
    "    if str(n) == str(n)[::-1]:\n",
    "        return True \n",
    "    return False\n",
    "\n",
    "limit = 1000\n",
    "\n",
    "palindromic_number = [element for element in range(10,limit +1) if is_palindromic(element)]\n",
    "\n",
    "print(f\"Here is the Plaindromic number under {limit} are {palindromic_number}\")"
   ]
  },
  {
   "cell_type": "code",
   "execution_count": null,
   "id": "41474d46-9f47-4527-adf1-29d7c2e16915",
   "metadata": {},
   "outputs": [],
   "source": []
  },
  {
   "cell_type": "code",
   "execution_count": 43,
   "id": "77220e3e-7fa5-4274-ac9f-ea3f2c6a4689",
   "metadata": {},
   "outputs": [],
   "source": [
    "## 25. Write a program to flatten a nested list using list comprehension."
   ]
  },
  {
   "cell_type": "code",
   "execution_count": 46,
   "id": "e80c5099-64da-45f4-97d6-4b068c2e0a0c",
   "metadata": {},
   "outputs": [
    {
     "name": "stdout",
     "output_type": "stream",
     "text": [
      "['abdur', 'Raheman', 'DSA', 6, 7, 8]\n"
     ]
    }
   ],
   "source": [
    "my_list  = [[\"abdur\",\"Raheman\",\"DSA\"],1,2,4,5,[6,7,8]]\n",
    "\n",
    "flatten_list =[inner for element in my_list if isinstance(element,list) for inner in element]\n",
    "\n",
    "print(flatten_list)"
   ]
  },
  {
   "cell_type": "code",
   "execution_count": 55,
   "id": "e8309e49-4dcd-4805-aab6-a963716bcc05",
   "metadata": {},
   "outputs": [],
   "source": [
    "# Alternative way to solve this "
   ]
  },
  {
   "cell_type": "code",
   "execution_count": 53,
   "id": "4566a6f2-b121-4f5d-b543-20c309c21fb1",
   "metadata": {},
   "outputs": [
    {
     "name": "stdout",
     "output_type": "stream",
     "text": [
      "['abdur', 'Raheman', 'DSA', 6, 7, 8]\n"
     ]
    }
   ],
   "source": [
    "def is_iterable(element):\n",
    "    try:\n",
    "        iter(element)\n",
    "        return True\n",
    "    except TypeError:\n",
    "        return False\n",
    "\n",
    "def flatten_list(nested_list):\n",
    "    # Use a list comprehension to flatten the nested list\n",
    "    flattened = [element for sublist in nested_list if is_iterable(sublist) for element in sublist]\n",
    "    return flattened\n",
    "\n",
    "# Example usage:\n",
    "my_list = [[\"abdur\", \"Raheman\", \"DSA\"], 1, 2, 4, 5, [6, 7, 8]]\n",
    "flattened_list = flatten_list(my_list)\n",
    "print(flattened_list)"
   ]
  },
  {
   "cell_type": "code",
   "execution_count": null,
   "id": "3d545693-a9db-4408-a802-31382b4a43bc",
   "metadata": {},
   "outputs": [],
   "source": []
  },
  {
   "cell_type": "code",
   "execution_count": 56,
   "id": "012d215c-8c72-4526-8dd7-94ef934bed28",
   "metadata": {},
   "outputs": [],
   "source": [
    "## 26.  Develop a program that computes the sum of even and odd numbers in a list separately using list comprehension."
   ]
  },
  {
   "cell_type": "code",
   "execution_count": 60,
   "id": "2c287032-9b84-4d51-9e59-40778b7c0b26",
   "metadata": {},
   "outputs": [
    {
     "name": "stdout",
     "output_type": "stream",
     "text": [
      "sum of even number 30\n",
      "sum of Odd number 25\n"
     ]
    }
   ],
   "source": [
    "my_list = [1,2,3,4,5,6,7,8,9,10]\n",
    "\n",
    "even_num = [int(element) for element in my_list if element % 2 == 0]\n",
    "odd_num = [int(element) for element in my_list if element % 2 != 0]\n",
    "\n",
    "even_num = sum(even_num)\n",
    "odd_num = sum(odd_num)\n",
    "\n",
    "print(\"sum of even number\", even_num)\n",
    "print(\"sum of Odd number\", odd_num)"
   ]
  },
  {
   "cell_type": "code",
   "execution_count": null,
   "id": "43c97bfb-73f6-4e33-9bdf-3b4a88c1f764",
   "metadata": {},
   "outputs": [],
   "source": []
  },
  {
   "cell_type": "code",
   "execution_count": 61,
   "id": "6be0708b-4a65-4ff2-8032-53e31dd52758",
   "metadata": {},
   "outputs": [],
   "source": [
    "## 27. Create a program that generates a list of squares of odd numbers between 1 and 10 using list comprehension."
   ]
  },
  {
   "cell_type": "code",
   "execution_count": 69,
   "id": "8636f6e1-d8ec-488a-8da5-8c26519787b3",
   "metadata": {},
   "outputs": [
    {
     "name": "stdout",
     "output_type": "stream",
     "text": [
      "[1, 9, 25, 49, 81]\n"
     ]
    }
   ],
   "source": [
    "square_num = [i**2 for i in range(1,11) if i % 2 !=0]\n",
    "\n",
    "print(square_num)"
   ]
  },
  {
   "cell_type": "code",
   "execution_count": null,
   "id": "c5743fdc-f3d7-45ed-86d8-bb7ec566cb12",
   "metadata": {},
   "outputs": [],
   "source": []
  },
  {
   "cell_type": "code",
   "execution_count": 1,
   "id": "eb608689-6abc-4d2a-b796-35d940f01c28",
   "metadata": {},
   "outputs": [],
   "source": [
    "## 28. Write a program that combines two lists into a dictionary using list comprehension."
   ]
  },
  {
   "cell_type": "code",
   "execution_count": 6,
   "id": "2e257cab-99e2-475b-bf28-f3f6e75242a3",
   "metadata": {},
   "outputs": [
    {
     "name": "stdout",
     "output_type": "stream",
     "text": [
      "{'name': 'Abdur', 'Roll-no': 32, 'Course': 'Data-science'}\n"
     ]
    }
   ],
   "source": [
    "l1 = [\"name\",\"Roll-no\",\"Course\"]\n",
    "l2 = [\"Abdur\",32,\"Data-science\"]\n",
    "\n",
    "d1 = {key: value for key, value in zip(l1,l2)}\n",
    "\n",
    "print(d1)"
   ]
  },
  {
   "cell_type": "code",
   "execution_count": null,
   "id": "143ec294-eec4-425b-8cc1-153092d43769",
   "metadata": {},
   "outputs": [],
   "source": []
  },
  {
   "cell_type": "code",
   "execution_count": 7,
   "id": "bc1cad21-c87a-4ce9-a581-2d97e3d227bd",
   "metadata": {},
   "outputs": [],
   "source": [
    " ## 29. Develop a program that extracts the vowels from a string and stores them in a list using list comprehension."
   ]
  },
  {
   "cell_type": "code",
   "execution_count": 11,
   "id": "8b85b311-6c5d-428a-b29c-d6c93b1968a0",
   "metadata": {},
   "outputs": [
    {
     "name": "stdin",
     "output_type": "stream",
     "text": [
      "enter your word to find vowels Good One with your skills\n"
     ]
    },
    {
     "name": "stdout",
     "output_type": "stream",
     "text": [
      "['o', 'o', 'O', 'e', 'i', 'o', 'u', 's', 'i', 's']\n"
     ]
    }
   ],
   "source": [
    "n = input(\"enter your word to find vowels\")\n",
    "\n",
    "vowels_word = []\n",
    "[vowels_word.append(element) for element in n if element in \"AEIOUaeious\"]\n",
    "\n",
    "print(vowels_word)"
   ]
  },
  {
   "cell_type": "code",
   "execution_count": null,
   "id": "0d5577a5-0e05-48f9-b5ca-5111cea14e9d",
   "metadata": {},
   "outputs": [],
   "source": []
  },
  {
   "cell_type": "code",
   "execution_count": 12,
   "id": "df96ce09-7d75-425c-acc8-26ccf457f5c5",
   "metadata": {},
   "outputs": [],
   "source": [
    "## 30. Create a program that removes all non-numeric characters from a list of strings using list comprehension"
   ]
  },
  {
   "cell_type": "code",
   "execution_count": 19,
   "id": "43967a97-bb6f-4bc5-8160-311e21dc90b9",
   "metadata": {},
   "outputs": [
    {
     "name": "stdout",
     "output_type": "stream",
     "text": [
      "['Abdur', ',match', 'food', 'jogging']\n"
     ]
    }
   ],
   "source": [
    "l1 = [1,2,3,\"Abdur\", \",match\", \"food\", \"jogging\"]\n",
    "\n",
    "remove_numerical = [element for element in l1 if not isinstance(element,(int,float))]\n",
    "\n",
    "print(remove_numerical)"
   ]
  },
  {
   "cell_type": "code",
   "execution_count": null,
   "id": "c0d21cb6-ae1d-485f-924d-07190f47cebd",
   "metadata": {},
   "outputs": [],
   "source": []
  },
  {
   "cell_type": "code",
   "execution_count": 20,
   "id": "03d35062-8d0f-4940-b889-3ae133484173",
   "metadata": {},
   "outputs": [],
   "source": [
    "## Challenge level "
   ]
  },
  {
   "cell_type": "code",
   "execution_count": 21,
   "id": "629b56e6-dab3-4e8d-8608-bf4288a10d2b",
   "metadata": {},
   "outputs": [],
   "source": [
    "## 31.  Write a program to generate a list of prime numbers using the Sieve of Eratosthenes algorithm and list comprehension."
   ]
  },
  {
   "cell_type": "code",
   "execution_count": 24,
   "id": "e28a3c21-c3f3-4025-98e6-37946b890726",
   "metadata": {},
   "outputs": [
    {
     "name": "stdin",
     "output_type": "stream",
     "text": [
      "Enter a number to find prime numbers up to that number:  56\n"
     ]
    },
    {
     "name": "stdout",
     "output_type": "stream",
     "text": [
      "Prime numbers up to 56 are: [2, 3, 5, 7, 11, 13, 17, 19, 23, 29, 31, 37, 41, 43, 47, 53]\n"
     ]
    }
   ],
   "source": [
    "def prime_number(n):\n",
    "    pr_num = []\n",
    "    if n < 2:\n",
    "        return False  # 0 and 1 are not prime, so we start from 2\n",
    "\n",
    "    for num in range(2, n + 1):\n",
    "        is_prime = True  # Assume num is prime until proven otherwise\n",
    "\n",
    "        for divisor in range(2, int(num**0.5) + 1):\n",
    "            if num % divisor == 0:\n",
    "                is_prime = False  # num is divisible by divisor, so it's not prime\n",
    "                break\n",
    "\n",
    "        if is_prime:\n",
    "            pr_num.append(num)\n",
    "\n",
    "    return pr_num\n",
    "\n",
    "n = int(input(\"Enter a number to find prime numbers up to that number: \"))\n",
    "prime_numbers = prime_number(n)\n",
    "print(\"Prime numbers up to\", n, \"are:\", prime_numbers)"
   ]
  },
  {
   "cell_type": "code",
   "execution_count": 1,
   "id": "4d661778-f083-42b3-a6a4-3d9edeaeaec3",
   "metadata": {},
   "outputs": [
    {
     "name": "stdin",
     "output_type": "stream",
     "text": [
      "Enter a number to find prime numbers up to that number:  56\n"
     ]
    },
    {
     "name": "stdout",
     "output_type": "stream",
     "text": [
      "Prime numbers up to 56 are: [2, 3, 5, 7, 11, 13, 17, 19, 23, 29, 31, 37, 41, 43, 47, 53]\n"
     ]
    }
   ],
   "source": [
    "def sieve_of_eratosthenes(n):\n",
    "    is_prime = [True] * (n + 1)\n",
    "    is_prime[0] = is_prime[1] = False\n",
    "    p = 2\n",
    "    while p**2 <= n:\n",
    "        if is_prime[p]:\n",
    "            for i in range(p**2, n + 1, p):\n",
    "                is_prime[i] = False\n",
    "        p += 1\n",
    "    return [i for i in range(2, n + 1) if is_prime[i]]\n",
    "\n",
    "n = int(input(\"Enter a number to find prime numbers up to that number: \"))\n",
    "prime_numbers = sieve_of_eratosthenes(n)\n",
    "print(\"Prime numbers up to\", n, \"are:\", prime_numbers)"
   ]
  },
  {
   "cell_type": "code",
   "execution_count": null,
   "id": "3268aae1-2c6d-430f-b243-179ae9ef07fd",
   "metadata": {},
   "outputs": [],
   "source": []
  },
  {
   "cell_type": "code",
   "execution_count": 2,
   "id": "094a32b3-3da1-48fb-83ff-262b6d4f15e0",
   "metadata": {},
   "outputs": [],
   "source": [
    "## 32.  Create a program that generates a list of all Pythagorean triplets up to a specified limit using list comprehension."
   ]
  },
  {
   "cell_type": "code",
   "execution_count": 25,
   "id": "5abbed7b-16dd-4b74-9feb-8c38a11809ea",
   "metadata": {},
   "outputs": [
    {
     "name": "stdin",
     "output_type": "stream",
     "text": [
      "enter your last number to find pythogorean triplets 12\n"
     ]
    },
    {
     "name": "stdout",
     "output_type": "stream",
     "text": [
      " here is the list for your pythogreaon triplet [(3, 4, 5), (6, 8, 10)]\n"
     ]
    }
   ],
   "source": [
    "def pythogorean_triplets(n):\n",
    "    \n",
    "    #formula for pythogorean triplets is \n",
    "    # a**2 + b**2 = c**2\n",
    "    \n",
    "    triplets = [(a,b,c) for a in range(1,n) for b in range(a,n) for c in range(b,n) if a**2 +b**2 == c**2]\n",
    "    return triplets\n",
    "\n",
    "n = int(input(\"enter your last number to find pythogorean triplets\"))                    \n",
    "pyset = pythogorean_triplets(n)\n",
    "print(f' here is the list for your pythogreaon triplet {pyset}')"
   ]
  },
  {
   "cell_type": "code",
   "execution_count": null,
   "id": "3682ca06-7313-4140-9d6c-9df0457d0856",
   "metadata": {},
   "outputs": [],
   "source": []
  },
  {
   "cell_type": "code",
   "execution_count": 1,
   "id": "e0706236-a6bd-4d85-b79a-ffd134f8131d",
   "metadata": {},
   "outputs": [],
   "source": [
    "## 33.  Develop a program that generates a list of all possible combinations of two lists using list comprehension."
   ]
  },
  {
   "cell_type": "code",
   "execution_count": 3,
   "id": "e5149cfa-717d-447f-95c4-9ff70323ee32",
   "metadata": {},
   "outputs": [
    {
     "name": "stdout",
     "output_type": "stream",
     "text": [
      "[(1, 'a'), (1, 'b'), (1, 'dc'), (1, 'f'), (1, 'g'), (1, 'h'), (1, 'j'), (1, 'k'), (1, 'y'), (1, 'u'), (2, 'a'), (2, 'b'), (2, 'dc'), (2, 'f'), (2, 'g'), (2, 'h'), (2, 'j'), (2, 'k'), (2, 'y'), (2, 'u'), (3, 'a'), (3, 'b'), (3, 'dc'), (3, 'f'), (3, 'g'), (3, 'h'), (3, 'j'), (3, 'k'), (3, 'y'), (3, 'u'), (4, 'a'), (4, 'b'), (4, 'dc'), (4, 'f'), (4, 'g'), (4, 'h'), (4, 'j'), (4, 'k'), (4, 'y'), (4, 'u'), (5, 'a'), (5, 'b'), (5, 'dc'), (5, 'f'), (5, 'g'), (5, 'h'), (5, 'j'), (5, 'k'), (5, 'y'), (5, 'u'), (6, 'a'), (6, 'b'), (6, 'dc'), (6, 'f'), (6, 'g'), (6, 'h'), (6, 'j'), (6, 'k'), (6, 'y'), (6, 'u'), (7, 'a'), (7, 'b'), (7, 'dc'), (7, 'f'), (7, 'g'), (7, 'h'), (7, 'j'), (7, 'k'), (7, 'y'), (7, 'u'), (8, 'a'), (8, 'b'), (8, 'dc'), (8, 'f'), (8, 'g'), (8, 'h'), (8, 'j'), (8, 'k'), (8, 'y'), (8, 'u'), (9, 'a'), (9, 'b'), (9, 'dc'), (9, 'f'), (9, 'g'), (9, 'h'), (9, 'j'), (9, 'k'), (9, 'y'), (9, 'u')]\n"
     ]
    }
   ],
   "source": [
    "list1 = [1,2,3,4,5,6,7,8,9]\n",
    "list2 = [\"a\",\"b\",\"dc\",\"f\",\"g\",\"h\",\"j\",\"k\",\"y\",\"u\"]\n",
    "\n",
    "combine_list = [(x,y) for x in list1 for y in list2]\n",
    "print(combine_list)"
   ]
  },
  {
   "cell_type": "code",
   "execution_count": null,
   "id": "f02d8dea-ef4a-410d-abd3-f02e3de40783",
   "metadata": {},
   "outputs": [],
   "source": []
  },
  {
   "cell_type": "code",
   "execution_count": 5,
   "id": "b943c5e4-dc60-4b5a-8ba3-956ec98c4b9d",
   "metadata": {},
   "outputs": [],
   "source": [
    "## 34.  Write a program that calculates the mean, median, and mode of a list of numbers using list comprehension."
   ]
  },
  {
   "cell_type": "code",
   "execution_count": 2,
   "id": "bf29576f-0938-42d2-b793-a3fc35685ec4",
   "metadata": {},
   "outputs": [],
   "source": [
    "from collections import Counter \n",
    "\n",
    "class stastics_cal:\n",
    "    \n",
    "    def __init__(self, number):\n",
    "        self.num = number\n",
    "        \n",
    "    def mean(self):\n",
    "        return sum(self.num) / len(self.num)\n",
    "    \n",
    "    def meadian(self):\n",
    "        sort_list = sorted(self.num)\n",
    "        length = len(sort_list)\n",
    "        \n",
    "        if length % 2 == 0:\n",
    "            middle_left = (length // 2) -1 \n",
    "            middle_right = (length //2)\n",
    "            median_value = (sort_list[middle_left] + sort_list[middle_right]) / 2\n",
    "        else:\n",
    "            median_value = sort_list[length // 2]\n",
    "        \n",
    "        return median_value\n",
    "    \n",
    "    def cal_mode(self):\n",
    "        counts = Counter(self.num)\n",
    "        max_count = max(counts.values())\n",
    "        \n",
    "        mode = [key for key, value in counts.items() if value == max_count]\n",
    "        \n",
    "        return mode                "
   ]
  },
  {
   "cell_type": "code",
   "execution_count": 9,
   "id": "9d523525-1c03-4004-8f44-1bbf6dc2f92e",
   "metadata": {},
   "outputs": [],
   "source": [
    "hello = stastics_cal((1,2,3,4,5,6,7,5,5,5,5,6,6,6,6,6,6,6,6))\n"
   ]
  },
  {
   "cell_type": "code",
   "execution_count": 10,
   "id": "ac50ef0f-f3a8-48ef-959d-24da9b27f700",
   "metadata": {},
   "outputs": [
    {
     "data": {
      "text/plain": [
       "5.052631578947368"
      ]
     },
     "execution_count": 10,
     "metadata": {},
     "output_type": "execute_result"
    }
   ],
   "source": [
    "hello.mean()\n"
   ]
  },
  {
   "cell_type": "code",
   "execution_count": 11,
   "id": "f7313a89-8d18-4f7e-a441-2d292cb3abfd",
   "metadata": {},
   "outputs": [
    {
     "data": {
      "text/plain": [
       "6"
      ]
     },
     "execution_count": 11,
     "metadata": {},
     "output_type": "execute_result"
    }
   ],
   "source": [
    "hello.meadian()"
   ]
  },
  {
   "cell_type": "code",
   "execution_count": 12,
   "id": "d9d01052-8c7f-4b6e-996f-8d15b0273645",
   "metadata": {},
   "outputs": [
    {
     "data": {
      "text/plain": [
       "[6]"
      ]
     },
     "execution_count": 12,
     "metadata": {},
     "output_type": "execute_result"
    }
   ],
   "source": [
    "hello.cal_mode()"
   ]
  },
  {
   "cell_type": "code",
   "execution_count": null,
   "id": "32985a87-f267-4753-b87b-f1844c54a57f",
   "metadata": {},
   "outputs": [],
   "source": []
  },
  {
   "cell_type": "code",
   "execution_count": 1,
   "id": "c737b2ae-0cae-4d3d-9593-c4a9a8c6e05b",
   "metadata": {},
   "outputs": [],
   "source": [
    "## 35.  Create a program that generates Pascal's triangle up to a specified number of rows using list comprehension"
   ]
  },
  {
   "cell_type": "code",
   "execution_count": 13,
   "id": "176b3e19-131b-42be-a41d-9dced720beab",
   "metadata": {},
   "outputs": [
    {
     "name": "stdin",
     "output_type": "stream",
     "text": [
      "enter a number 5\n"
     ]
    },
    {
     "name": "stdout",
     "output_type": "stream",
     "text": [
      "            1    \n",
      "         1    1    \n",
      "      1    2    1    \n",
      "   1    3    3    1    \n",
      "1    4    6    4    1    \n"
     ]
    }
   ],
   "source": [
    "n = int(input(\"enter a number\"))   # 3\n",
    "list1 = []\n",
    "\n",
    "for i in range(n):\n",
    "    temp_list = []\n",
    "    for j in range(i+1):\n",
    "        if j == 0 or j == i :\n",
    "            temp_list.append(1)\n",
    "        else:\n",
    "            temp_list.append(list1[i-1][j-1] +list1[i-1][j])\n",
    "    list1.append(temp_list)\n",
    "\n",
    "for i in range(n):\n",
    "    for j in range(n-i-1):\n",
    "        print(format(\" \",\"<2\"),end = \" \")\n",
    "    for j in range(i+1):\n",
    "        print(format(list1[i][j],\"<4\"),end = \" \")\n",
    "    print()"
   ]
  },
  {
   "cell_type": "code",
   "execution_count": 11,
   "id": "2357c26a-b33b-423b-bdce-6bb73e14d556",
   "metadata": {},
   "outputs": [],
   "source": [
    "## 36. Develop a program that calculates the sum of the digits of a factorial of numbers from 1 to 5 using list comprehension."
   ]
  },
  {
   "cell_type": "code",
   "execution_count": 18,
   "id": "13ec1721-9054-43c7-8109-4a525b375950",
   "metadata": {},
   "outputs": [
    {
     "name": "stdin",
     "output_type": "stream",
     "text": [
      "enter a number 6\n"
     ]
    },
    {
     "name": "stdout",
     "output_type": "stream",
     "text": [
      "The sum of digits of 1! is 1\n",
      "The sum of digits of 2! is 2\n",
      "The sum of digits of 3! is 6\n",
      "The sum of digits of 4! is 6\n",
      "The sum of digits of 5! is 3\n"
     ]
    }
   ],
   "source": [
    "# Import the factorial function from the math module\n",
    "from math import factorial\n",
    "\n",
    "num = int(input(\"enter a number\"))\n",
    "\n",
    "# Calculate the sum of digits of the factorial for numbers from 1 to 5 using list comprehension\n",
    "sum_of_digits = [sum(int(digit) for digit in str(factorial(n))) for n in range(1, num)]\n",
    "\n",
    "# Print the results\n",
    "for n, result in zip(range(1, num), sum_of_digits):\n",
    "    print(f\"The sum of digits of {n}! is {result}\")"
   ]
  },
  {
   "cell_type": "code",
   "execution_count": null,
   "id": "f914a689-ce61-42a8-9e42-feef53fdb9bf",
   "metadata": {},
   "outputs": [],
   "source": []
  },
  {
   "cell_type": "code",
   "execution_count": 19,
   "id": "df7fb927-4e64-46d3-9ce5-6284857c1d34",
   "metadata": {},
   "outputs": [],
   "source": [
    "## 37. Write a program that finds the longest word in a sentence using list comprehension. "
   ]
  },
  {
   "cell_type": "code",
   "execution_count": 20,
   "id": "bed53631-b7b7-4618-a557-c2d51bda77b7",
   "metadata": {},
   "outputs": [
    {
     "name": "stdin",
     "output_type": "stream",
     "text": [
      "Enter a sentence:  hello !, you are my worldddddd\n"
     ]
    },
    {
     "name": "stdout",
     "output_type": "stream",
     "text": [
      "The longest word in the sentence is: worldddddd\n"
     ]
    }
   ],
   "source": [
    "def find_longest_word(sentence):\n",
    "    words = sentence.split()  # Split the sentence into a list of words\n",
    "    longest_word = max((word for word in words), key=len)  # Find the word with the maximum length using list comprehension\n",
    "    return longest_word\n",
    "\n",
    "# Example usage:\n",
    "sentence = input(\"Enter a sentence: \")\n",
    "result = find_longest_word(sentence)\n",
    "print(f\"The longest word in the sentence is: {result}\")"
   ]
  },
  {
   "cell_type": "code",
   "execution_count": null,
   "id": "c5e3c0aa-66e0-48ca-a8ee-c3a4c162a58f",
   "metadata": {},
   "outputs": [],
   "source": []
  },
  {
   "cell_type": "code",
   "execution_count": 21,
   "id": "7b0e507b-7149-44ad-a2ec-5bd655b15d65",
   "metadata": {},
   "outputs": [],
   "source": [
    "## 38.  Create a program that filters a list of strings to include only those with more than three vowels using list comprehension."
   ]
  },
  {
   "cell_type": "code",
   "execution_count": 22,
   "id": "4ab0c786-d6b2-4969-98b3-83161ba88c92",
   "metadata": {},
   "outputs": [
    {
     "name": "stdout",
     "output_type": "stream",
     "text": [
      "Words with more than three vowels: []\n"
     ]
    }
   ],
   "source": [
    "def filter_strings_with_more_than_three_vowels(word_list):\n",
    "    # Define a list of vowels\n",
    "    vowels = \"aeiouAEIOU\"\n",
    "\n",
    "    # Use list comprehension to filter strings with more than three vowels\n",
    "    filtered_list = [word for word in word_list if sum(1 for char in word if char in vowels) > 3]\n",
    "\n",
    "    return filtered_list\n",
    "\n",
    "# Example usage:\n",
    "words = [\"hello\", \"world\", \"python\", \"programming\", \"example\"]\n",
    "filtered_words = filter_strings_with_more_than_three_vowels(words)\n",
    "print(f\"Words with more than three vowels: {filtered_words}\")"
   ]
  },
  {
   "cell_type": "code",
   "execution_count": null,
   "id": "3ddc0668-59d1-4037-ba50-b4bf6e24c4fd",
   "metadata": {},
   "outputs": [],
   "source": []
  },
  {
   "cell_type": "code",
   "execution_count": 23,
   "id": "dc933c73-0158-46a2-bf51-cd7b5f8845f7",
   "metadata": {},
   "outputs": [],
   "source": [
    "## 39.  Develop a program that calculates the sum of the digits of numbers from 1 to 1000 using list comprehension."
   ]
  },
  {
   "cell_type": "code",
   "execution_count": 24,
   "id": "bde24492-1779-4dc5-b951-bf35074f532e",
   "metadata": {},
   "outputs": [
    {
     "name": "stdout",
     "output_type": "stream",
     "text": [
      "The total sum of digits for numbers from 1 to 1000 is: 13501\n"
     ]
    }
   ],
   "source": [
    "# Define a function to calculate the sum of digits for a given number\n",
    "def sum_of_digits(number):\n",
    "    return sum(int(digit) for digit in str(number))\n",
    "\n",
    "# Use list comprehension to calculate the sum of digits for numbers from 1 to 1000\n",
    "sum_of_digits_list = [sum_of_digits(num) for num in range(1, 1001)]\n",
    "\n",
    "# Calculate the total sum of digits\n",
    "total_sum = sum(sum_of_digits_list)\n",
    "\n",
    "# Print the result\n",
    "print(f\"The total sum of digits for numbers from 1 to 1000 is: {total_sum}\")"
   ]
  },
  {
   "cell_type": "code",
   "execution_count": null,
   "id": "59cad01a-4030-43e0-a87b-150a8f98daf2",
   "metadata": {},
   "outputs": [],
   "source": []
  },
  {
   "cell_type": "code",
   "execution_count": 27,
   "id": "5b09a893-7417-4dfb-9143-d96ab7c92fc2",
   "metadata": {},
   "outputs": [],
   "source": [
    "## 40.  Write a program that generates a list of prime palindromic numbers using list comprehension."
   ]
  },
  {
   "cell_type": "code",
   "execution_count": 26,
   "id": "0bc02a77-98e3-4d8f-9090-18972b890091",
   "metadata": {},
   "outputs": [
    {
     "name": "stdout",
     "output_type": "stream",
     "text": [
      "Prime Palindromic Numbers: [2, 3, 5, 7, 11, 101, 131, 151, 181, 191, 313, 353, 373, 383, 727, 757, 787, 797, 919, 929]\n"
     ]
    }
   ],
   "source": [
    "def is_prime(num):\n",
    "    if num < 2:\n",
    "        return False\n",
    "    for i in range(2, int(num**0.5) + 1):\n",
    "        if num % i == 0:\n",
    "            return False\n",
    "    return True\n",
    "\n",
    "def is_palindrome(num):\n",
    "    return str(num) == str(num)[::-1]\n",
    "\n",
    "# Generate a list of prime palindromic numbers using list comprehension\n",
    "prime_palindromes = [num for num in range(1, 1000) if is_prime(num) and is_palindrome(num)]\n",
    "\n",
    "# Print the result\n",
    "print(\"Prime Palindromic Numbers:\", prime_palindromes)"
   ]
  },
  {
   "cell_type": "code",
   "execution_count": null,
   "id": "19c1991a-8a90-474b-85d2-39699fb72159",
   "metadata": {},
   "outputs": [],
   "source": []
  }
 ],
 "metadata": {
  "kernelspec": {
   "display_name": "Python 3 (ipykernel)",
   "language": "python",
   "name": "python3"
  },
  "language_info": {
   "codemirror_mode": {
    "name": "ipython",
    "version": 3
   },
   "file_extension": ".py",
   "mimetype": "text/x-python",
   "name": "python",
   "nbconvert_exporter": "python",
   "pygments_lexer": "ipython3",
   "version": "3.10.8"
  }
 },
 "nbformat": 4,
 "nbformat_minor": 5
}
